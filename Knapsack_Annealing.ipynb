{
 "cells": [
  {
   "cell_type": "code",
   "execution_count": 84,
   "id": "e5b496e0",
   "metadata": {},
   "outputs": [],
   "source": [
    "import numpy as np\n",
    "import matplotlib.pyplot as plt"
   ]
  },
  {
   "cell_type": "code",
   "execution_count": 85,
   "id": "88e6bf9d",
   "metadata": {
    "scrolled": true
   },
   "outputs": [
    {
     "name": "stdout",
     "output_type": "stream",
     "text": [
      "Número de itens: 100\n",
      "Pesos dos itens: [61 24 81 70 30 92 96 84 84 97 33 12 31 62 11 97 39 47 11 73 69 30 42 85\n",
      " 67 31 98 58 68 51 69 89 24 71 71 56 71 60 64 73 12 60 16 30 82 48 27 13\n",
      " 98 69 23 18 99 62 11 93 69 80 53 17 56 44 87 90 45 59 13 11 15 63 13 63\n",
      " 72 27 99 53 43 83 71 23 57 24 81 87 96 71 49 94 89 91 62 33 35 98 69 50\n",
      " 38 24 54 74]\n",
      "Utilidade dos itens: [98 80 18 97 10 17 97 72 20 90 17 44 44 42 14 50 37 16 82 81 21 43 42 57\n",
      " 32 71 97 46 53 95 44 74 56 87 12 10 14 99 23 36 18 88 24 99 51 86 60 72\n",
      " 61 13 32 24 52 38 45 22 41 80 68 95 37 75 51 54 71 66 15 37 37 53 93 39\n",
      " 71 84 98 71 10 36 71 86 12 79 81 36 18 71 46 60 53 33 88 68 41 97 61 71\n",
      " 67 61 21 48]\n",
      "Capacidade da mochila: 2500\n"
     ]
    }
   ],
   "source": [
    "# Definir o número de itens\n",
    "num_items = 100\n",
    "\n",
    "# Gerar dados aleatórios para pesos e valores de utilidade\n",
    "np.random.seed(42)  # Define a semente para reprodução\n",
    "capacity = np.random.randint(10, 100, num_items)  # Pesos de 10 a 100\n",
    "utility  = np.random.randint(10, 100, num_items)  # Valores de 10 a 100\n",
    "\n",
    "# Definir a capacidade da mochila\n",
    "max_capacity = 2500\n",
    "\n",
    "# Criar um conjunto de dados \n",
    "dataset = {'num_items'   : num_items,\n",
    "           'capacity'    : capacity,\n",
    "           'utility'     : utility,\n",
    "           'max_capacity': max_capacity}\n",
    "\n",
    "print(\"Número de itens:\", dataset['num_items'])\n",
    "print(\"Pesos dos itens:\", dataset['capacity'])\n",
    "print(\"Utilidade dos itens:\", dataset['utility'])\n",
    "print(\"Capacidade da mochila:\", dataset['max_capacity'])\n"
   ]
  },
  {
   "cell_type": "code",
   "execution_count": 98,
   "id": "10763974",
   "metadata": {
    "scrolled": true
   },
   "outputs": [
    {
     "name": "stdout",
     "output_type": "stream",
     "text": [
      "Dados iniciais: [1 0 0 1 1 1 0 1 0 1 1 0 0 0 0 0 0 1 1 0 1 0 1 1 0 0 0 1 0 1 0 1 1 0 1 1 0\n",
      " 1 0 0 0 0 1 1 1 0 1 1 0 0 1 0 0 0 0 1 0 0 0 0 0 0 0 0 1 0 1 0 0 0 0 1 0 0\n",
      " 1 1 0 1 1 1 0 0 0 1 0 1 0 0 1 0 1 1 0 1 0 0 1 0 1 0]\n",
      "Iniciando com os seguintes itens aleatórios: 42\n",
      "Com utilidade total: 2359\n"
     ]
    }
   ],
   "source": [
    "random_choice = np.random.choice([0,1],100)\n",
    "\n",
    "def objective_function(utility, capacity, max_capacity, random_choice):\n",
    "    total_utility = np.dot(utility, random_choice)\n",
    "    total_capacity = np.dot(capacity, random_choice)\n",
    "    if total_capacity <= max_capacity:\n",
    "        return total_utility\n",
    "    else:\n",
    "        return 0\n",
    "\n",
    "print(f'Dados iniciais: {random_choice}')\n",
    "print(f'Iniciando com os seguintes itens aleatórios: {sum(random_choice)}')\n",
    "result = objective_function(utility, capacity, max_capacity, random_choice)\n",
    "print(f'Com utilidade total: {result}')"
   ]
  },
  {
   "cell_type": "code",
   "execution_count": 99,
   "id": "a22547a9",
   "metadata": {},
   "outputs": [
    {
     "name": "stdout",
     "output_type": "stream",
     "text": [
      "vizinho da escolha inicial: [1 0 0 1 1 1 0 1 0 1 1 0 0 0 0 0 0 1 1 0 1 0 1 1 0 0 0 1 0 1 0 1 1 0 1 1 0\n",
      " 1 0 0 0 0 1 1 1 0 0 1 0 0 1 0 0 0 0 1 0 0 0 0 0 0 0 0 1 0 1 0 0 0 0 1 0 0\n",
      " 1 1 0 1 1 1 0 0 0 1 0 1 0 0 1 0 1 1 0 1 0 0 1 0 1 0]\n"
     ]
    }
   ],
   "source": [
    "def create_neighbor(random_choice):\n",
    "    # Gerar um vizinho escolhendo um item aleatório para adicionar/remover\n",
    "    neighbor = random_choice.copy()\n",
    "    flip_index = np.random.randint(len(random_choice))\n",
    "    neighbor[flip_index] = 1 - neighbor[flip_index]\n",
    "    return neighbor\n",
    "\n",
    "print(f'vizinho da escolha inicial: {create_neighbor(random_choice)}')\n"
   ]
  },
  {
   "cell_type": "code",
   "execution_count": 100,
   "id": "668a8353",
   "metadata": {},
   "outputs": [
    {
     "data": {
      "image/png": "[encoded data removed]",
      "text/plain": [
       "<Figure size 600x400 with 1 Axes>"
      ]
     },
     "metadata": {},
     "output_type": "display_data"
    },
    {
     "name": "stdout",
     "output_type": "stream",
     "text": [
      "Solução Inicial: 42\n",
      "Solução Final: 48\n",
      "Valor Final: 2745\n",
      "Capacidade total final: 2396\n"
     ]
    }
   ],
   "source": [
    "def simulated_annealing(random_choice, utility, capacity, max_capacity, initial_temperature, cooling_rate, iterations):\n",
    "        \n",
    "    current_solution = random_choice\n",
    "    current_utility = objective_function(utility, capacity, max_capacity, current_solution)\n",
    "    current_capacity = np.dot(capacity,current_solution)\n",
    "    \n",
    "    utility_values = [current_utility]\n",
    "    temperature_values = [initial_temperature]\n",
    "    capacity_values = [current_capacity]\n",
    "    \n",
    "    for i in range(iterations):\n",
    "        neighbor_solution = create_neighbor(current_solution)\n",
    "        neighbor_utility = objective_function(utility, capacity, max_capacity, neighbor_solution)\n",
    "         \n",
    "        # Aceita o vizinho se ele é melhor ou de acordo com a probabilidade de Boltzmann\n",
    "        if neighbor_utility > current_utility or np.random.rand() < np.exp((neighbor_utility - current_utility) / initial_temperature):\n",
    "            current_solution = neighbor_solution\n",
    "            current_utility = neighbor_utility\n",
    "\n",
    "        #current_temperature = initial_temperature * cooling_rate    \n",
    "        initial_temperature *= cooling_rate\n",
    "        initial_temperature = max(initial_temperature, 0.1)\n",
    "\n",
    "        utility_values.append(current_utility)\n",
    "        temperature_values.append(initial_temperature)\n",
    "        capacity_values.append(current_capacity)\n",
    "\n",
    "    plt.figure(figsize=(6, 4))\n",
    "    plt.plot(utility_values, label='Utility')\n",
    "    plt.plot(temperature_values, label='Temperature')\n",
    "    plt.plot(capacity_values, label='capacity')\n",
    "    plt.legend()\n",
    "    plt.xlabel('Iterations')\n",
    "    plt.ylabel('Value')\n",
    "    plt.title('Simulated Annealing Optimization')\n",
    "    plt.show()\n",
    "\n",
    "    return current_solution, current_utility, current_capacity\n",
    "\n",
    "# Use o conjunto de dados criado anteriormente\n",
    "utility = dataset['utility']\n",
    "capacity = dataset['capacity']\n",
    "max_capacity = dataset['max_capacity']\n",
    "\n",
    "# Parâmetros do Simulated Annealing\n",
    "initial_temperature = 150\n",
    "cooling_rate = 0.99\n",
    "iterations = 1000\n",
    "\n",
    "# Executa o Simulated Annealing\n",
    "final_solution, final_value, final_capacity = simulated_annealing(random_choice, utility, capacity, max_capacity, initial_temperature, cooling_rate, iterations)\n",
    "\n",
    "print(\"Solução Inicial:\", sum(random_choice))\n",
    "print(\"Solução Final:\", sum(final_solution))\n",
    "print(\"Valor Final:\", final_value)\n",
    "print(\"Capacidade total final:\", final_capacity)"
   ]
  },
  {
   "cell_type": "code",
   "execution_count": null,
   "id": "a01b9d90",
   "metadata": {},
   "outputs": [],
   "source": []
  },
  {
   "cell_type": "code",
   "execution_count": null,
   "id": "b82d5de1",
   "metadata": {},
   "outputs": [],
   "source": []
  }
 ],
 "metadata": {
  "kernelspec": {
   "display_name": "Python 3 (ipykernel)",
   "language": "python",
   "name": "python3"
  },
  "language_info": {
   "codemirror_mode": {
    "name": "ipython",
    "version": 3
   },
   "file_extension": ".py",
   "mimetype": "text/x-python",
   "name": "python",
   "nbconvert_exporter": "python",
   "pygments_lexer": "ipython3",
   "version": "3.11.5"
  }
 },
 "nbformat": 4,
 "nbformat_minor": 5
}
